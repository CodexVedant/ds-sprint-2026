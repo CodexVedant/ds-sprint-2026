# 📊 Phase 1 – Day 1: Pandas Practice with Titanic Dataset
# url for titanic.csv( "https://web.stanford.edu/class/archive/cs/cs109/cs109.1166/stuff/titanic.csv")
import pandas as pd
