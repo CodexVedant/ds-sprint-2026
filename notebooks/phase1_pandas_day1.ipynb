import pandas as pd

url = "https://web.stanford.edu/class/archive/cs/cs109/cs109.1166/stuff/titanic.csv"
df = pd.read_csv(url)
