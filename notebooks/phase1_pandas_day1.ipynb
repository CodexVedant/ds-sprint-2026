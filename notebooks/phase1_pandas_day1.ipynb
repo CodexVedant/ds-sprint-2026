# 📊 Phase 1 - Day 1: Pandas Practice with Titanic Dataset

## ✅ Goals:
- Load and explore Titanic dataset (`data/raw/titanic.csv`)
- Perform basic cleaning (handle missing values)
- Run summary statistics, value counts, groupby
- Practice indexing, slicing, and filtering

## 🔧 Tasks:
1. Load dataset using `pd.read_csv()`
2. Print `.info()` and `.describe()`
3. Check missing values
4. Clean `Age`, `Cabin`, and `Embarked`
5. Group passengers by `Pclass` and get survival rates
