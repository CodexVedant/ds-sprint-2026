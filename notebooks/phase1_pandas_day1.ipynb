# Phase 1 - Day 1: Pandas Titanic Practice

import pandas as pd

# Load dataset
url = "https://web.stanford.edu/class/archive/cs/cs109/cs109.1166/stuff/titanic.csv"
df = pd.read_csv(url)

# Preview data
df.head()
